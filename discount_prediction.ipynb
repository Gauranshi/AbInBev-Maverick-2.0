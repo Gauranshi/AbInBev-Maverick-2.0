{
  "nbformat": 4,
  "nbformat_minor": 0,
  "metadata": {
    "colab": {
      "name": "AB Inbev Submission.ipynb",
      "provenance": [],
      "collapsed_sections": []
    },
    "kernelspec": {
      "name": "python3",
      "display_name": "Python 3"
    },
    "language_info": {
      "name": "python"
    }
  },
  "cells": [
    {
      "cell_type": "markdown",
      "metadata": {
        "id": "pRH3HuFMDkob"
      },
      "source": [
        "#Team Name - Blitzkreig\n",
        "##Indian Institute of Technology Kharagpur\n",
        "###Arusarka Bose, Naman Paharia, Gauranshi Chauhan\n",
        "\n",
        "- >Github Repo: https://github.com/Gauranshi/AbInBev-Maverick-2.0/tree/main\n",
        "- >Website: https://share.streamlit.io/arusarkabose/discount-predicter/main/app.py\n",
        "\n",
        "Pipeline:\n",
        "<img src = 'https://drive.google.com/uc?id=1jXansDiG4LQ2S4mNilg843ImXxpJvXjQ' >"
      ]
    },
    {
      "cell_type": "markdown",
      "metadata": {
        "id": "pKmywbFMERUp"
      },
      "source": [
        "##Importing Library and Data"
      ]
    },
    {
      "cell_type": "code",
      "metadata": {
        "id": "h9GkqAESCfYx"
      },
      "source": [
        "import pandas as pd\n",
        "import numpy as np\n",
        "from sklearn import preprocessing\n",
        "from sklearn.model_selection import train_test_split\n",
        "from sklearn.tree import DecisionTreeRegressor, DecisionTreeClassifier\n",
        "from sklearn.metrics import mean_squared_error, mean_absolute_error, r2_score\n",
        "from sklearn.utils import check_array\n",
        "import matplotlib.pyplot as plt\n",
        "from xgboost import XGBRegressor\n",
        "from xgboost import XGBClassifier\n",
        "#from lazypredict.Supervised import LazyRegressor\n",
        "from sklearn import metrics\n",
        "from sklearn.ensemble import RandomForestClassifier\n",
        "#import autosklearn.classification\n",
        "import lightgbm as lgb\n",
        "import pickle\n",
        "import urllib\n",
        "import seaborn as sns"
      ],
      "execution_count": 1,
      "outputs": []
    },
    {
      "cell_type": "code",
      "metadata": {
        "colab": {
          "base_uri": "https://localhost:8080/"
        },
        "id": "4GCqOGlijCH9",
        "outputId": "d8f5d1cc-9d72-4db1-d33a-d46aa9064b21"
      },
      "source": [
        "import gdown\n",
        "url = 'https://drive.google.com/uc?id=13celyxcevwAaKGcNXjJhHZAHMp0Yl_u8'\n",
        "output = 'data'\n",
        "gdown.download(url, output, quiet=False)\n",
        "path  ='/content/data'\n",
        "data = pd.read_excel(path, sheet_name = 'Data')\n",
        "df = data.copy()"
      ],
      "execution_count": 2,
      "outputs": [
        {
          "output_type": "stream",
          "text": [
            "Downloading...\n",
            "From: https://drive.google.com/uc?id=13celyxcevwAaKGcNXjJhHZAHMp0Yl_u8\n",
            "To: /content/data\n",
            "4.11MB [00:00, 79.0MB/s]\n"
          ],
          "name": "stderr"
        }
      ]
    },
    {
      "cell_type": "markdown",
      "metadata": {
        "id": "-T5AcXTAEXmy"
      },
      "source": [
        "##Pre-processing "
      ]
    },
    {
      "cell_type": "markdown",
      "metadata": {
        "id": "nQOCmCs_I8K4"
      },
      "source": [
        "> - Replace missing data with the mode of Attribute\n",
        "> - Numerical values are replaced with 0 if less than a threshold (0.0005), to prevent Numerical Overflow\n",
        "> - Drop non-significant attributes (Ship-to ID, Product Set, Discount_Total)"
      ]
    },
    {
      "cell_type": "code",
      "metadata": {
        "id": "4znUlonzDVZP"
      },
      "source": [
        "def basic_preprocessing(df):\n",
        "  for i in range(len(df)):\n",
        "    if (abs(df.loc[i,'Volume_2019 Product'])<0.0005):\n",
        "      df.loc[i,'Volume_2019 Product']=0\n",
        "    if (abs(df.loc[i,'OffInvoice Discount(LCU)'])<0.0005):\n",
        "      df.loc[i,'OffInvoice Discount(LCU)']=0\n",
        "    if (abs(df.loc[i,'OnInvoice Discount(LCU)'])<0.0005):\n",
        "      df.loc[i,'OnInvoice Discount(LCU)']=0\n",
        "    \n",
        "    if (df.loc[i,'poc_image']==0):\n",
        "      df.loc[i,'poc_image']='Mainstream'\n",
        "\n",
        "  df.loc[9,'segment']='Institutional'                            # REPLACED A SINGLE MISSING VALUE\n",
        "  drop_cols=['Ship-to ID','Product Set','Discount_Total']\n",
        "  df=df.drop(drop_cols,axis=1)\n",
        "  df=df.iloc[0:-4]                                               # REPLACED A SINGLE MISSING VALUE\n",
        "  return df\n",
        "df = basic_preprocessing(df)"
      ],
      "execution_count": 3,
      "outputs": []
    },
    {
      "cell_type": "markdown",
      "metadata": {
        "id": "AMyM3UbzJcSV"
      },
      "source": [
        "###Outlier removal\n",
        "> - Remove data points with Z-score above a threshold. Formula for Z-score is given as:\n",
        "\n",
        "$$ \n",
        "\\text{Z-Score} = \\frac{X-\\text{Mean}}{\\text{Standard Deviation}}\n",
        "$$\n",
        "\n",
        "Threshold is chosen as 3 as it indicates a spread of 3 Standard Deviation which covers 99.7% of the gaussian distribution.\n",
        "\n",
        "> - Remove data points with Negative values of discount, volume or GTO"
      ]
    },
    {
      "cell_type": "code",
      "metadata": {
        "id": "0xDogZZJI0gw"
      },
      "source": [
        "def outlier_removal(df):\n",
        "  cols = ['Volume_2019', 'GTO_2019', 'OnInvoice Discount(LCU)', 'OffInvoice Discount(LCU)', 'Tax']\n",
        "  mask=np.ones(len(df),dtype=bool)               # CREATING A MASK TO STORE ROWS\n",
        "  threshold=3\n",
        "  for col in cols:\n",
        "    z_score=(df[col]-df[col].mean())/df[col].std(ddof=0)\n",
        "    for i,j in enumerate(df[col]):\n",
        "      if (j<0):\n",
        "        mask[i]=0\n",
        "    for i,j in enumerate(z_score):\n",
        "      if (j>threshold):\n",
        "        mask[i]=0\n",
        "  df = df[mask] \n",
        "  df=df.reset_index().drop(['index'],axis=1)\n",
        "  return df\n",
        "df = outlier_removal(df)"
      ],
      "execution_count": 4,
      "outputs": []
    },
    {
      "cell_type": "markdown",
      "metadata": {
        "id": "ntaj11rsm2bI"
      },
      "source": [
        "## Exploratory Data Analysis"
      ]
    },
    {
      "cell_type": "markdown",
      "metadata": {
        "id": "1EXEHwaZi86g"
      },
      "source": [
        "* Correlation heatmap for the numeric columns illustrates that the OnInvoice Discount is more correlated with the GTO_2019 as compared to the OffInvoice Discount. Though through line plots it seems that the opposite is true, the high number of zero values in the OffInvoice Discount column reduces its correlation."
      ]
    },
    {
      "cell_type": "code",
      "metadata": {
        "colab": {
          "base_uri": "https://localhost:8080/",
          "height": 402
        },
        "id": "1h-MYQIHnX9c",
        "outputId": "ce30be07-f11a-4a72-b6c1-937502d845c7"
      },
      "source": [
        "cmap = sns.diverging_palette(0, 230, 90, 60, as_cmap=True)\n",
        "sns.heatmap(df.corr(), cmap=cmap, vmax=1, vmin=-1, center=0,\n",
        "            square=True, linewidths=.5)"
      ],
      "execution_count": 5,
      "outputs": [
        {
          "output_type": "execute_result",
          "data": {
            "text/plain": [
              "<matplotlib.axes._subplots.AxesSubplot at 0x7f8de6795f50>"
            ]
          },
          "metadata": {
            "tags": []
          },
          "execution_count": 5
        },
        {
          "output_type": "display_data",
          "data": {
            "image/png": "[encoded data removed]",
            "text/plain": [
              "<Figure size 432x288 with 2 Axes>"
            ]
          },
          "metadata": {
            "tags": [],
            "needs_background": "light"
          }
        }
      ]
    },
    {
      "cell_type": "markdown",
      "metadata": {
        "id": "-B4kdtsZdr_t"
      },
      "source": [
        "\n",
        "* Through violinplots of the sales volumes for the financial years 2018 and 2019, we infer that the mean volume sold in 2018 is slightly higher than that in 2019."
      ]
    },
    {
      "cell_type": "code",
      "metadata": {
        "colab": {
          "base_uri": "https://localhost:8080/",
          "height": 449
        },
        "id": "_-HNgyeGs-cY",
        "outputId": "a1c48d4b-d4d4-4973-bdd0-c5993ccfc477"
      },
      "source": [
        "fig, ax = plt.subplots(figsize =(9, 7))\n",
        "sns.violinplot(ax = ax, data = df.iloc[:, 0:2])"
      ],
      "execution_count": 6,
      "outputs": [
        {
          "output_type": "execute_result",
          "data": {
            "text/plain": [
              "<matplotlib.axes._subplots.AxesSubplot at 0x7f8de5b39a50>"
            ]
          },
          "metadata": {
            "tags": []
          },
          "execution_count": 6
        },
        {
          "output_type": "display_data",
          "data": {
            "image/png": "[encoded data removed]",
            "text/plain": [
              "<Figure size 648x504 with 1 Axes>"
            ]
          },
          "metadata": {
            "tags": [],
            "needs_background": "light"
          }
        }
      ]
    },
    {
      "cell_type": "markdown",
      "metadata": {
        "id": "xPyXrSE9eECV"
      },
      "source": [
        "* Through regression model plots of the turnover against the OffInvoice and OnInvoice discounts, we see that outliers are more prominent in the OffInvoice column as is visible by the relatively low slope of the mean regression line."
      ]
    },
    {
      "cell_type": "code",
      "metadata": {
        "colab": {
          "base_uri": "https://localhost:8080/",
          "height": 401
        },
        "id": "kSeeeCc8vaCt",
        "outputId": "d580965e-af43-46ef-eb47-4b111c067ba2"
      },
      "source": [
        "sns.lmplot(x='GTO_2019', y='OffInvoice Discount(LCU)', data=df)"
      ],
      "execution_count": 7,
      "outputs": [
        {
          "output_type": "execute_result",
          "data": {
            "text/plain": [
              "<seaborn.axisgrid.FacetGrid at 0x7f8de64f91d0>"
            ]
          },
          "metadata": {
            "tags": []
          },
          "execution_count": 7
        },
        {
          "output_type": "display_data",
          "data": {
            "image/png": "[encoded data removed]",
            "text/plain": [
              "<Figure size 360x360 with 1 Axes>"
            ]
          },
          "metadata": {
            "tags": [],
            "needs_background": "light"
          }
        }
      ]
    },
    {
      "cell_type": "code",
      "metadata": {
        "colab": {
          "base_uri": "https://localhost:8080/",
          "height": 401
        },
        "id": "UaZsWak9v1UA",
        "outputId": "08f06887-e133-4fd4-8262-980e9a1f364a"
      },
      "source": [
        "sns.lmplot(x='GTO_2019', y='OnInvoice Discount(LCU)', data=df)"
      ],
      "execution_count": 8,
      "outputs": [
        {
          "output_type": "execute_result",
          "data": {
            "text/plain": [
              "<seaborn.axisgrid.FacetGrid at 0x7f8de570a050>"
            ]
          },
          "metadata": {
            "tags": []
          },
          "execution_count": 8
        },
        {
          "output_type": "display_data",
          "data": {
            "image/png": "[encoded data removed]",
            "text/plain": [
              "<Figure size 360x360 with 1 Axes>"
            ]
          },
          "metadata": {
            "tags": [],
            "needs_background": "light"
          }
        }
      ]
    },
    {
      "cell_type": "markdown",
      "metadata": {
        "id": "EbQz9EQTe6YE"
      },
      "source": [
        "* The percentage of zeros in the OffInvoice column is much higher than that in the OnInvoice column as is exposed by the histogram plots."
      ]
    },
    {
      "cell_type": "code",
      "metadata": {
        "colab": {
          "base_uri": "https://localhost:8080/",
          "height": 296
        },
        "id": "AHj-OEflxzyZ",
        "outputId": "663fc432-71d7-4f88-9540-c3457b48b1d4"
      },
      "source": [
        "eda_df=df.copy()\n",
        "for i in range(len(eda_df)):\n",
        "  if(eda_df.loc[i,\"OnInvoice Discount(LCU)\"]):\n",
        "    eda_df.loc[i,\"OnInvoice Discount(LCU)\"]=\"Non-Zero\"\n",
        "  else:\n",
        "    eda_df.loc[i,\"OnInvoice Discount(LCU)\"]=\"Zero\"\n",
        "sns.histplot(data=eda_df, x=\"OnInvoice Discount(LCU)\", kde=False)"
      ],
      "execution_count": 9,
      "outputs": [
        {
          "output_type": "execute_result",
          "data": {
            "text/plain": [
              "<matplotlib.axes._subplots.AxesSubplot at 0x7f8de5c9b850>"
            ]
          },
          "metadata": {
            "tags": []
          },
          "execution_count": 9
        },
        {
          "output_type": "display_data",
          "data": {
            "image/png": "[encoded data removed]",
            "text/plain": [
              "<Figure size 432x288 with 1 Axes>"
            ]
          },
          "metadata": {
            "tags": [],
            "needs_background": "light"
          }
        }
      ]
    },
    {
      "cell_type": "code",
      "metadata": {
        "colab": {
          "base_uri": "https://localhost:8080/",
          "height": 296
        },
        "id": "GT-qFb16zlp-",
        "outputId": "02c51ffa-d619-45f2-8aa2-0c41c923d03a"
      },
      "source": [
        "eda_df=df.copy()\n",
        "for i in range(len(eda_df)):\n",
        "  if(eda_df.loc[i,\"OffInvoice Discount(LCU)\"]):\n",
        "    eda_df.loc[i,\"OffInvoice Discount(LCU)\"]=\"Non-Zero\"\n",
        "  else:\n",
        "    eda_df.loc[i,\"OffInvoice Discount(LCU)\"]=\"Zero\"\n",
        "sns.histplot(data=eda_df, x=\"OffInvoice Discount(LCU)\", kde=False)"
      ],
      "execution_count": 10,
      "outputs": [
        {
          "output_type": "execute_result",
          "data": {
            "text/plain": [
              "<matplotlib.axes._subplots.AxesSubplot at 0x7f8de4ff2490>"
            ]
          },
          "metadata": {
            "tags": []
          },
          "execution_count": 10
        },
        {
          "output_type": "display_data",
          "data": {
            "image/png": "[encoded data removed]",
            "text/plain": [
              "<Figure size 432x288 with 1 Axes>"
            ]
          },
          "metadata": {
            "tags": [],
            "needs_background": "light"
          }
        }
      ]
    },
    {
      "cell_type": "markdown",
      "metadata": {
        "id": "5k4RRafEfIwZ"
      },
      "source": [
        "* We observe that around 85% of the OffInvoice Discount values are within 34.65% of the respective GTO_2019 values"
      ]
    },
    {
      "cell_type": "code",
      "metadata": {
        "colab": {
          "base_uri": "https://localhost:8080/",
          "height": 297
        },
        "id": "tRyw2YWbIrHr",
        "outputId": "5bf1e2e0-8ef8-4539-9d07-46cd204d9b07"
      },
      "source": [
        "eda_df=df.copy()\n",
        "eda_df['marker']=0\n",
        "for i in range(len(eda_df)):\n",
        "  eda_df.loc[:,'marker']=0.3465*eda_df.loc[:,'GTO_2019']\n",
        "plt.plot(eda_df.marker,eda_df['OffInvoice Discount(LCU)'],label='OffInvoice')\n",
        "plt.plot(eda_df.marker,eda_df['marker'],label='marker')\n",
        "plt.legend()\n",
        "plt.xlabel('0.3465*GTO_2019')\n",
        "plt.ylabel('Value')"
      ],
      "execution_count": 11,
      "outputs": [
        {
          "output_type": "execute_result",
          "data": {
            "text/plain": [
              "Text(0, 0.5, 'Value')"
            ]
          },
          "metadata": {
            "tags": []
          },
          "execution_count": 11
        },
        {
          "output_type": "display_data",
          "data": {
            "image/png": "[encoded data removed]",
            "text/plain": [
              "<Figure size 432x288 with 1 Axes>"
            ]
          },
          "metadata": {
            "tags": [],
            "needs_background": "light"
          }
        }
      ]
    },
    {
      "cell_type": "markdown",
      "metadata": {
        "id": "X843Fez4faCf"
      },
      "source": [
        "* We calculate the Cramer's V correlation matrix for the categorical columns of the dataset"
      ]
    },
    {
      "cell_type": "code",
      "metadata": {
        "id": "KTeYsk6jLa_a"
      },
      "source": [
        "data=df[['sfdc_tier','poc_image','segment','sub_segment','Brand','Sub-Brand','Pack_Type','Returnalility','province']]\n",
        "label = preprocessing.LabelEncoder()\n",
        "data_encoded = pd.DataFrame() \n",
        "\n",
        "for i in data.columns :\n",
        "  data_encoded[i]=label.fit_transform(data[i])"
      ],
      "execution_count": 12,
      "outputs": []
    },
    {
      "cell_type": "code",
      "metadata": {
        "id": "EXKt_r5qOO40"
      },
      "source": [
        "from scipy.stats import chi2_contingency\n",
        "def cramers_V(var1,var2) :\n",
        "  crosstab =np.array(pd.crosstab(var1,var2, rownames=None, colnames=None)) # Cross table building\n",
        "  stat = chi2_contingency(crosstab)[0] # Keeping of the test statistic of the Chi2 test\n",
        "  obs = np.sum(crosstab) # Number of observations\n",
        "  mini = min(crosstab.shape)-1 # Take the minimum value between the columns and the rows of the cross table\n",
        "  return (stat/(obs*mini))"
      ],
      "execution_count": 13,
      "outputs": []
    },
    {
      "cell_type": "code",
      "metadata": {
        "id": "FnwR81KHOYrV"
      },
      "source": [
        "rows= []\n",
        "\n",
        "for var1 in data_encoded:\n",
        "  col = []\n",
        "  for var2 in data_encoded :\n",
        "    cramers =cramers_V(data_encoded[var1], data_encoded[var2]) # Cramer's V test\n",
        "    col.append(round(cramers,2)) # Keeping of the rounded value of the Cramer's V  \n",
        "  rows.append(col)\n",
        "  \n",
        "cramers_results = np.array(rows)\n",
        "eda_df = pd.DataFrame(cramers_results, columns = data_encoded.columns, index =data_encoded.columns)"
      ],
      "execution_count": 14,
      "outputs": []
    },
    {
      "cell_type": "markdown",
      "metadata": {
        "id": "jRE3xu7LkCID"
      },
      "source": [
        "Apart from the obvious correlations between Brand and Sub-Brand, and Segment and Sub-Segment, we observe that there is high correlation between the Pack_Type and Returnability columns. \n",
        "\n",
        "All of the CAN and BULK are OW, along with 7.74% of the BOTTLE category, while all of the data points in the rest of the Pack_Type categories are RETURNABLE.\n"
      ]
    },
    {
      "cell_type": "code",
      "metadata": {
        "colab": {
          "base_uri": "https://localhost:8080/",
          "height": 343
        },
        "id": "JBEWzOowPBJx",
        "outputId": "97515890-a239-4328-bb6d-29260c4b17fb"
      },
      "source": [
        "mask = np.zeros_like(eda_df, dtype=np.bool)\n",
        "mask[np.triu_indices_from(mask)] = True\n",
        "sns.heatmap(eda_df, mask=mask, vmin=0., vmax=1, square=True)"
      ],
      "execution_count": 15,
      "outputs": [
        {
          "output_type": "execute_result",
          "data": {
            "text/plain": [
              "<matplotlib.axes._subplots.AxesSubplot at 0x7f8de4f40a50>"
            ]
          },
          "metadata": {
            "tags": []
          },
          "execution_count": 15
        },
        {
          "output_type": "display_data",
          "data": {
            "image/png": "[encoded data removed]",
            "text/plain": [
              "<Figure size 432x288 with 2 Axes>"
            ]
          },
          "metadata": {
            "tags": [],
            "needs_background": "light"
          }
        }
      ]
    },
    {
      "cell_type": "markdown",
      "metadata": {
        "id": "2ReGH6kuZJQT"
      },
      "source": [
        "##Feature Engineering\n",
        "1. **Volume Difference**: Discount multiplier based on the sales volume difference between the financial years 2019 and 2018. \n",
        "\n",
        "> - For reduced volumes, a multiplier factor of 1.24 is provided to incentivise higher sales.\n",
        "> - For stagnant volumes, a multiplier factor of 1.12 is provided to incentivise higher sales.\n",
        "> - For increased volumes, the multiplier factor is 0.95 in order to increase the sales profits.\n",
        "\n",
        "2. **Tiering Structure**: Modified tiering structure clubbing the lower tier premiums with the higher tier mainstreams, in accordance with similarity trends between the same:\n",
        "\n",
        "<center> Tier 2 Mainstream &xrarr; Tier 3  </center>\n",
        "<center> Tier 1 Mainstream + Tier 2 Premium &xrarr; Tier 2 </center>\n",
        "<center> Tier 0 Mainstream + Tier 1 Premium &xrarr; Tier 1 </center>\n",
        "<center> Tier 0 Premium &xrarr; Tier 0  </center>\n",
        "\n",
        "3. **Discount Multiplier**: Discount multipier factor based on the average sales volume. The multiplier has been defined through the creation of a slab system which would encourage the PoS to increase the order volumes to move higher up the discount slabs:\n",
        "\n",
        "| Volume Slab | Discount Multiplier |\n",
        "| ----------- | ----------- |\n",
        "| > 60 percentile and < 70 percentile | 1.1 |\n",
        "| > 70 percentile and < 80 percentile | 1.15 |\n",
        "| > 80 percentile and < 90 percentile | 1.2 |\n",
        "| > 90 percentile and < 95 percentile | 1.3 |\n",
        "| > 95 percentile and < 99 percentile | 1.35 |\n",
        "| > 99 percentile and < 99.9 percentile | 1.4 |\n",
        "| > 99.9 percentile | 1.5 |\n",
        "<br>\n",
        "\n",
        "4. **Sales Share**: For each POC, it is the ratio of volume sold by that POC to total volume of liquor sold in that province. Formula for sales share can be given as: \n",
        "$$\\frac{Volume_{ POC}}{\\sum_{}Volume_{POC\\in Province^{i}}} $$\n",
        "\n",
        "\n",
        "5. **Product Cost**: It is the price of a particular product being sold at POC. Assuming tax rate to be r, total transaction value will be Tax/r, thus procuct price can be given as:\n",
        "$$ \\frac{Tax}{r \\times Volume}$$"
      ]
    },
    {
      "cell_type": "code",
      "metadata": {
        "id": "yCTmPB9UY3m6"
      },
      "source": [
        "def volume_discmult(df):\n",
        "  df['vol_diff']=df['Volume_2019']-df['Volume_2018']\n",
        "  df['vol_disc']=df['Discount_Total']\n",
        "  df.loc[df['vol_diff']<0, 'vol_disc'] *=1.24\n",
        "  df.loc[df['vol_diff']==0, 'vol_disc'] *=1.12\n",
        "  df.loc[df['vol_diff']>0, 'vol_disc'] *=0.95\n",
        "  return df"
      ],
      "execution_count": 16,
      "outputs": []
    },
    {
      "cell_type": "code",
      "metadata": {
        "id": "IYf1GxU4Yzvj"
      },
      "source": [
        "def tiering_struct(df):\n",
        "  df['new_tier']=''\n",
        "  for i in range(len(df)):\n",
        "    tier=df.loc[i,'sfdc_tier']\n",
        "    poc=df.loc[i,'poc_image']\n",
        "    if (tier=='Tier 2' and poc=='Mainstream'):\n",
        "      df.loc[i,'new_tier']='Tier 3'\n",
        "    elif ((tier=='Tier 1' and poc=='Mainstream') or (tier=='Tier 2' and poc=='Premium')):\n",
        "      df.loc[i,'new_tier']='Tier 2'\n",
        "    elif ((tier=='Tier 0' and poc=='Mainstream') or (tier=='Tier 1' and poc=='Premium')):\n",
        "      df.loc[i,'new_tier']='Tier 1'\n",
        "    elif (tier=='Tier 0' and poc=='Premium'):\n",
        "      df.loc[i,'new_tier']='Tier 0'\n",
        "  df=df.drop(['poc_image','sfdc_tier'],axis=1)\n",
        "  return df"
      ],
      "execution_count": 17,
      "outputs": []
    },
    {
      "cell_type": "code",
      "metadata": {
        "id": "xxIiRUhPYu1p"
      },
      "source": [
        "def engineer_discmult(df):\n",
        "  df[\"avg_annual_vol\"]=(df['Volume_2019']+df['Volume_2018'])/2\n",
        "  df[\"discount_multiplier\"]=0\n",
        "  qn=dict()\n",
        "  qn[\"60\"]=df.avg_annual_vol.quantile(0.6)\n",
        "  qn[\"70\"]=df.avg_annual_vol.quantile(0.7)\n",
        "  qn[\"80\"]=df.avg_annual_vol.quantile(0.8)\n",
        "  qn[\"90\"]=df.avg_annual_vol.quantile(0.9)\n",
        "  qn[\"95\"]=df.avg_annual_vol.quantile(0.95)\n",
        "  qn[\"97\"]=df.avg_annual_vol.quantile(0.97)\n",
        "  qn[\"99.9\"]=df.avg_annual_vol.quantile(0.999)\n",
        "  for i in range(len(df)):\n",
        "    vol=df.loc[i,\"avg_annual_vol\"]\n",
        "    if  (vol>=qn[\"60\"] and vol<qn[\"70\"]):\n",
        "      df.loc[i,\"discount_multiplier\"]=1.1\n",
        "    elif (vol>=qn[\"70\"] and vol<qn[\"80\"]):\n",
        "      df.loc[i,\"discount_multiplier\"]=1.15\n",
        "    elif (vol>=qn[\"80\"] and vol<qn[\"90\"]):\n",
        "      df.loc[i,\"discount_multiplier\"]=1.2\n",
        "    elif (vol>=qn[\"90\"] and vol<qn[\"95\"]):\n",
        "      df.loc[i,\"discount_multiplier\"]=1.3\n",
        "    elif (vol>=qn[\"95\"] and vol<qn[\"99\"]):\n",
        "      df.loc[i,\"discount_multiplier\"]=1.35\n",
        "    elif (vol>=qn[\"99\"] and vol<qn[\"99.9\"]):\n",
        "      df.loc[i,\"discount_multiplier\"]=1.4\n",
        "    elif (vol>=qn[\"99.9\"]):\n",
        "      df.loc[i,\"discount_multiplier\"]=1.5\n",
        "    return df"
      ],
      "execution_count": 18,
      "outputs": []
    },
    {
      "cell_type": "code",
      "metadata": {
        "id": "DXbynJ63YNvu"
      },
      "source": [
        "def sales_share(df):\n",
        "  prov_dic = {}\n",
        "  for i in range(len(df)):\n",
        "    if(df.loc[i,'province'] in prov_dic):\n",
        "      prov_dic[df.loc[i,'province']] += df.loc[i,'Volume_2019 Product']\n",
        "    else:\n",
        "      prov_dic[df.loc[i,'province']] = df.loc[i,'Volume_2019 Product']\n",
        "  df['sales_share']=df['Volume_2019 Product']\n",
        "  for i in range(len(df)):\n",
        "    df.loc[i,'sales_share'] = df.loc[i,'Volume_2019'] / prov_dic[df.loc[i,'province']]\n",
        "  return df"
      ],
      "execution_count": 19,
      "outputs": []
    },
    {
      "cell_type": "code",
      "metadata": {
        "id": "b8d3fuERYsK9"
      },
      "source": [
        "def product_cost(df):\n",
        "  df['product_cost']=df['Tax']\n",
        "  prod = {}\n",
        "  dx = df\n",
        "  for i in range(len(df)):\n",
        "    tax=df.loc[i,'Tax']\n",
        "    vol=df.loc[i,'Volume_2019 Product']\n",
        "    if( vol!=0):\n",
        "      prod[backup.loc[i,'Product Set']] = tax/vol\n",
        "      df.loc[i,'product_cost']= tax/vol\n",
        "    if(vol==0):\n",
        "      if backup.loc[i,'Product Set'] in prod:\n",
        "        df.loc[i,'product_cost']= prod[backup.loc[i,'Product Set']]\n",
        "      else:\n",
        "        df.loc[i,'product_cost'] = int(25)\n",
        "  return df"
      ],
      "execution_count": 20,
      "outputs": []
    },
    {
      "cell_type": "markdown",
      "metadata": {
        "id": "lqM7edJR7MKw"
      },
      "source": [
        "## One-Hot Encoding and Label Encoding\n",
        "> -   One-hot encode Nominal categorical columns using Pandas\n",
        "> -   Label encode Ordinal categorical columns using Sk-learn\n",
        "\n"
      ]
    },
    {
      "cell_type": "code",
      "metadata": {
        "id": "r8Y7h0pKNym8"
      },
      "source": [
        "#ONE-HOT ENCODING AND LABEL ENCODING\n",
        "def encoding(df):\n",
        "  oh_cols=['poc_image','segment','Brand','sub_segment','Pack_Type','Returnalility','province','Sub-Brand']\n",
        "  #oh_cols=['segment','Brand','sub_segment','Pack_Type','Returnalility']\n",
        "  df=pd.get_dummies(data = df,columns=oh_cols)\n",
        "  le = preprocessing.LabelEncoder()\n",
        "  le.fit(df.sfdc_tier)\n",
        "  df.sfdc_tier=le.transform(df.sfdc_tier)\n",
        "  return df\n",
        "df = encoding(df)"
      ],
      "execution_count": 21,
      "outputs": []
    },
    {
      "cell_type": "markdown",
      "metadata": {
        "id": "IAfh4XdQ7uGJ"
      },
      "source": [
        "## Split between training and test datasets\n",
        "\n",
        "\n",
        "> -   Drop both Discounts values from Train\n",
        "> -   Split between Train and Test datasets taking the split ratio as a user-defined parameter\n",
        "\n"
      ]
    },
    {
      "cell_type": "code",
      "metadata": {
        "id": "hmpruGPOKAH5"
      },
      "source": [
        "def df_train_test_split(df, target_var):\n",
        "  if(target_var =='on'):\n",
        "    target='OnInvoice Discount(LCU)'\n",
        "    other = 'OffInvoice Discount(LCU)'\n",
        "  if(target_var =='off'):\n",
        "    target='OffInvoice Discount(LCU)'\n",
        "    other = 'OnInvoice Discount(LCU)'\n",
        "  df=df.drop([other],axis=1)\n",
        "  Y=df.loc[:,target]\n",
        "  X=df.drop([target],axis=1)\n",
        "  X_train, X_test, y_train, y_test = train_test_split(X, Y, test_size=0.33, random_state=42)\n",
        "  return X_train, X_test, y_train, y_test"
      ],
      "execution_count": 22,
      "outputs": []
    },
    {
      "cell_type": "markdown",
      "metadata": {
        "id": "2OsPlCU0HKkZ"
      },
      "source": [
        "##Model Architecture"
      ]
    },
    {
      "cell_type": "markdown",
      "metadata": {
        "id": "p9CY6RTfC4Zs"
      },
      "source": [
        "###OnInvoice Discount"
      ]
    },
    {
      "cell_type": "markdown",
      "metadata": {
        "id": "iuU700PHTtWx"
      },
      "source": [
        "LOAD PRETRAINED MODELS\n",
        "\n",
        "This cell can be skipped and runing the subsequent cells would initialize and train the models, or load these pretrained models and comment the necessary lines in the concerned blocks."
      ]
    },
    {
      "cell_type": "code",
      "metadata": {
        "id": "2jVo-2YpTHN_",
        "colab": {
          "base_uri": "https://localhost:8080/"
        },
        "outputId": "42490745-bfa5-4eac-b0d2-e1bc58387f1e"
      },
      "source": [
        "#LOAD TRAINED MODELS FROM ULRS\n",
        "\n",
        "url = \"https://www.dropbox.com/s/ml4a9jilm2vcnuj/on_xgbreg.pickle.dat?dl=1\"  # dl=1 is important\n",
        "urllib.request\n",
        "u = urllib.request.urlopen(url)\n",
        "data = u.read()\n",
        "u.close()\n",
        "with open('on_reg.pickle.dat', \"wb\") as f :\n",
        "  f.write(data)\n",
        "\n",
        "regressor=pickle.load(open(\"on_reg.pickle.dat\", \"rb\"))\n",
        "\n",
        "url = \"https://www.dropbox.com/s/0aplcor3qhin2j1/on_clf1.pickle.dat?dl=1\"  # dl=1 is important\n",
        "urllib.request\n",
        "u = urllib.request.urlopen(url)\n",
        "data = u.read()\n",
        "u.close()\n",
        "with open('on_clf1.pickle.dat', \"wb\") as f :\n",
        "  f.write(data)\n",
        "\n",
        "clf=pickle.load(open(\"on_clf1.pickle.dat\", \"rb\"))\n",
        "\n",
        "url = \"https://www.dropbox.com/s/4amnhgx27b7jzgf/on_clf2.pickle.dat?dl=1\"  # dl=1 is important\n",
        "urllib.request\n",
        "u = urllib.request.urlopen(url)\n",
        "data = u.read()\n",
        "u.close()\n",
        "with open('on_clf2.pickle.dat', \"wb\") as f :\n",
        "  f.write(data)\n",
        "clf2=pickle.load(open(\"on_clf2.pickle.dat\", \"rb\"))\n",
        "\n",
        "url = \"https://www.dropbox.com/s/e46p2nc2s6xbgiz/rfreg_on.pickle.dat?dl=1\"  # dl=1 is important\n",
        "urllib.request\n",
        "u = urllib.request.urlopen(url)\n",
        "data = u.read()\n",
        "u.close()\n",
        "with open('on_rfr.pickle.dat', \"wb\") as f :\n",
        "  f.write(data)\n",
        "rfr=pickle.load(open(\"on_rfr.pickle.dat\", \"rb\"))"
      ],
      "execution_count": 23,
      "outputs": [
        {
          "output_type": "stream",
          "text": [
            "[13:59:54] WARNING: /workspace/src/objective/regression_obj.cu:152: reg:linear is now deprecated in favor of reg:squarederror.\n"
          ],
          "name": "stdout"
        }
      ]
    },
    {
      "cell_type": "markdown",
      "metadata": {
        "id": "he9jEh-ijZPs"
      },
      "source": [
        "Training Classifier\n",
        "\n",
        "Two classifier are trained:\n",
        "- > Decision Tree Classifier: Creates a model that predicts the value of a target variable by learning simple decision rules inferred from the data features. \n",
        "- > XGBoost Classifer: Boosting is based on weak learners and it reduces the bias error thus is useful to explain variance of the dataset.\n",
        "\n",
        "Decision Tree has high bias, low variance whereas XGBoost has low bias, high variance, thus ensemble of these two models produces the best results"
      ]
    },
    {
      "cell_type": "code",
      "metadata": {
        "id": "1tfAqQdZHM6b",
        "colab": {
          "base_uri": "https://localhost:8080/"
        },
        "outputId": "41ec83a5-1b82-4203-819a-52df5de366c8"
      },
      "source": [
        "X_train, X_test, y_train, y_test = df_train_test_split(df,'on')\n",
        "\n",
        "# CLASSIFER FOR ZERO/NON-ZERO DISCOUNTS\n",
        "# FIRST CLASSIFIER AS XGBOOST\n",
        "\n",
        "y_train_cl=(y_train!=0).astype(int)\n",
        "y_test_cl=(y_test!=0).astype(int)\n",
        "# clf = XGBClassifier(n_estimators=3000, max_depth=4, eta=0.1, subsample=0.7, colsample_bytree=0.8)\n",
        "# clf.fit(X_train,y_train_cl)\n",
        "cl_preds=clf.predict(X_test)\n",
        "\n",
        "# SECOND CLASSIFIER IS A SINGLE DECISION TREE\n",
        "# clf2 = DecisionTreeClassifier(random_state=0)\n",
        "# clf2.fit(X_train,y_train_cl)\n",
        "cl2_preds=clf2.predict(X_test)\n",
        "\n",
        "clf_preds = cl_preds * cl2_preds\n",
        "\n",
        "from sklearn.metrics import classification_report\n",
        "print(classification_report(y_test_cl, clf_preds))"
      ],
      "execution_count": 24,
      "outputs": [
        {
          "output_type": "stream",
          "text": [
            "              precision    recall  f1-score   support\n",
            "\n",
            "           0       0.79      0.87      0.83      3561\n",
            "           1       0.95      0.91      0.93      9127\n",
            "\n",
            "    accuracy                           0.90     12688\n",
            "   macro avg       0.87      0.89      0.88     12688\n",
            "weighted avg       0.90      0.90      0.90     12688\n",
            "\n"
          ],
          "name": "stdout"
        }
      ]
    },
    {
      "cell_type": "markdown",
      "metadata": {
        "id": "D8yi_BzAjWjj"
      },
      "source": [
        "Regressor\n",
        "\n",
        "- > The Regressor is trained on Non-Zero data points only, while the classifier models are trained on the complete dataset.\n",
        "- > The Regression results are stacked on the classification predictions for generating the final inference."
      ]
    },
    {
      "cell_type": "code",
      "metadata": {
        "id": "wZnpBv_AKIGO"
      },
      "source": [
        "# FUNCTION TO FILTER DATA POINTS WITH ZERO DISCOUNT VALUE\n",
        "def filer_non_zero(df, target_var):\n",
        "  if(target_var =='on'):\n",
        "    target='OnInvoice Discount(LCU)'\n",
        "  if(target_var =='off'):\n",
        "    target='OffInvoice Discount(LCU)'\n",
        "  mask=np.ones(len(df),dtype=bool)\n",
        "  for i in df.iterrows():\n",
        "    if(i[1][target]==0):\n",
        "      mask[i[0]]=0\n",
        "  df = df[mask] \n",
        "  return df"
      ],
      "execution_count": 25,
      "outputs": []
    },
    {
      "cell_type": "code",
      "metadata": {
        "id": "Fhdq64YrrKis"
      },
      "source": [
        "# EVALUATION METRICS FOR REGRESSION\n",
        "def reg_eval_metrics(y_true, y_pred):\n",
        "  error = 0\n",
        "  for i,j in enumerate(y_true):\n",
        "    if(j>0): error += np.abs((j - y_pred[i]) / (j +1)) * 100\n",
        "    else:  error += np.abs((j - y_pred[i]) / (y_pred[i] +1)) * 100\n",
        "  print('MAPE Score:  ', error/len(y_true))\n",
        "  print('RMSE Score:  ', mean_squared_error(y_true, preds, squared=False))\n",
        "  print('MAE Score:   ',mean_absolute_error(y_true, preds))"
      ],
      "execution_count": 26,
      "outputs": []
    },
    {
      "cell_type": "code",
      "metadata": {
        "colab": {
          "base_uri": "https://localhost:8080/"
        },
        "id": "KWS6DEmGjVEC",
        "outputId": "6892d382-dc5c-4a53-89ce-a8e4506c6c8f"
      },
      "source": [
        "# TRAINING AND TESTING XGBOOST REGRESSOR \n",
        "\n",
        "# REMOVING ROWS WITH ZERO DISCOUNT VALUE\n",
        "dx = filer_non_zero(df, 'on')\n",
        "X_train_mod, X_test_mod, y_train_mod, y_test_mod = df_train_test_split(dx,'on')\n",
        "\n",
        "# TRAINING MODEL WITH NON-ZERO VALUES\n",
        "# regressor =  XGBRegressor(n_estimators=3000, max_depth=4, eta=0.1, subsample=0.7, colsample_bytree=0.8)\n",
        "# regressor.fit(X_train_mod,y_train_mod)\n",
        "preds=regressor.predict(X_test_mod)\n",
        "\n",
        "print(\"Evaluation for non-zero only rows\")\n",
        "reg_eval_metrics(y_test_mod, preds)\n",
        "print(\"\")\n",
        "print(\"\")\n",
        "\n",
        "\n",
        "# PREDICTING ON ENTIRE DATASET\n",
        "preds=regressor.predict(X_test)\n",
        "preds=preds*cl_preds*cl2_preds                         # FILTERING DATA-POINTS WHICH WERE PREDICTED ZERO BY CLASSIFICATION PIPELINE\n",
        "# preds=preds*cl_preds\n",
        "\n",
        "print(\"Evaluation for entire datatset\")\n",
        "reg_eval_metrics(y_test, preds)"
      ],
      "execution_count": 27,
      "outputs": [
        {
          "output_type": "stream",
          "text": [
            "Evaluation for non-zero only rows\n",
            "MAPE Score:   73.2578868098511\n",
            "RMSE Score:   361.4276972063492\n",
            "MAE Score:    101.8253778717383\n",
            "\n",
            "\n",
            "Evaluation for entire datatset\n",
            "MAPE Score:   42.9687565248723\n",
            "RMSE Score:   268.34173195498573\n",
            "MAE Score:    53.22216093113461\n"
          ],
          "name": "stdout"
        }
      ]
    },
    {
      "cell_type": "code",
      "metadata": {
        "colab": {
          "base_uri": "https://localhost:8080/"
        },
        "id": "By6WYNzZ1q58",
        "outputId": "2b8dda24-21f4-4558-9cdd-82d55a3bd003"
      },
      "source": [
        "# TRAINING AND TESTING RANDOM FOREST REGRESSOR\n",
        "from sklearn.ensemble import RandomForestRegressor\n",
        "# rfr = RandomForestRegressor( random_state=0)\n",
        "# rfr.fit(X_train_mod,y_train_mod)\n",
        "preds=rfr.predict(X_test_mod)\n",
        "\n",
        "print(\"Evaluation for non-zero only rows\")\n",
        "reg_eval_metrics(y_test_mod, preds)\n",
        "print(\"\")\n",
        "print(\"\")\n",
        "\n",
        "preds=rfr.predict(X_test)\n",
        "preds=preds*cl_preds*cl2_preds                        # FILTERING DATA-POINTS WHICH WERE PREDICTED ZERO BY CLASSIFICATION PIPELINE\n",
        "\n",
        "print(\"Evaluation for entire datatset\")\n",
        "reg_eval_metrics(y_test, preds)"
      ],
      "execution_count": 28,
      "outputs": [
        {
          "output_type": "stream",
          "text": [
            "Evaluation for non-zero only rows\n",
            "MAPE Score:   71.3327168676365\n",
            "RMSE Score:   348.2317423865046\n",
            "MAE Score:    105.98997956625982\n",
            "\n",
            "\n",
            "Evaluation for entire datatset\n",
            "MAPE Score:   32.921417782459976\n",
            "RMSE Score:   272.85882368868283\n",
            "MAE Score:    60.63607119325348\n"
          ],
          "name": "stdout"
        }
      ]
    },
    {
      "cell_type": "markdown",
      "metadata": {
        "id": "x1gGWG08MYPB"
      },
      "source": [
        "###OffInvoice Discount"
      ]
    },
    {
      "cell_type": "markdown",
      "metadata": {
        "id": "kiva_A8PVOYi"
      },
      "source": [
        "LOAD PRETRAINED MODELS\n",
        "\n",
        "You can skip this cell and run the subsequent cells which would initialize and train the models, or load these pretrained models and comment the necessary lines in the concerned blocks."
      ]
    },
    {
      "cell_type": "code",
      "metadata": {
        "id": "U8WUAvjbUmAh",
        "colab": {
          "base_uri": "https://localhost:8080/"
        },
        "outputId": "93c75589-73a1-4978-ece1-e7683e33e624"
      },
      "source": [
        "# LOAD TRAINED MODELS FROM ULRS\n",
        "url = \"https://www.dropbox.com/s/hks3pb01hc8jc0a/off_xgbreg.pickle.dat?dl=1\"  # dl=1 is important\n",
        "urllib.request\n",
        "u = urllib.request.urlopen(url)\n",
        "data = u.read()\n",
        "u.close()\n",
        "with open('off_reg.pickle.dat', \"wb\") as f :\n",
        "  f.write(data)\n",
        "\n",
        "regressor=pickle.load(open(\"off_reg.pickle.dat\", \"rb\"))\n",
        "\n",
        "url = \"https://www.dropbox.com/s/tjt29nwyok3v2x0/off_clf1.pickle.dat?dl=1\"  # dl=1 is important\n",
        "urllib.request\n",
        "u = urllib.request.urlopen(url)\n",
        "data = u.read()\n",
        "u.close()\n",
        "with open('off_clf1.pickle.dat', \"wb\") as f :\n",
        "  f.write(data)\n",
        "\n",
        "clf=pickle.load(open(\"off_clf1.pickle.dat\", \"rb\"))\n",
        "\n",
        "url = \"https://www.dropbox.com/s/8lv8fe46chu528g/rfreg_off.pickle.dat?dl=1\"  # dl=1 is important\n",
        "urllib.request\n",
        "u = urllib.request.urlopen(url)\n",
        "data = u.read()\n",
        "u.close()\n",
        "with open('off_rfr.pickle.dat', \"wb\") as f :\n",
        "  f.write(data)\n",
        "rfr=pickle.load(open(\"off_rfr.pickle.dat\", \"rb\"))"
      ],
      "execution_count": 29,
      "outputs": [
        {
          "output_type": "stream",
          "text": [
            "[14:03:04] WARNING: /workspace/src/objective/regression_obj.cu:152: reg:linear is now deprecated in favor of reg:squarederror.\n"
          ],
          "name": "stdout"
        }
      ]
    },
    {
      "cell_type": "markdown",
      "metadata": {
        "id": "pvFLaYm2zTtL"
      },
      "source": [
        "Training Classifier"
      ]
    },
    {
      "cell_type": "code",
      "metadata": {
        "id": "GtxAGae2Masd",
        "colab": {
          "base_uri": "https://localhost:8080/"
        },
        "outputId": "54cf9018-3585-4c0e-e125-b11b174aa56e"
      },
      "source": [
        "X_train, X_test, y_train, y_test = df_train_test_split(df,'off')\n",
        "\n",
        "# CLASSIFER FOR ZERO/NON-ZERO DISCOUNTS\n",
        "# FIRST CLASSIFIER AS XGBOOST\n",
        "y_train_cl=(y_train!=0).astype(int)\n",
        "y_test_cl=(y_test!=0).astype(int)\n",
        "# clf = XGBClassifier(n_estimators=3000, max_depth=4, eta=0.1, subsample=0.7, colsample_bytree=0.8)\n",
        "# clf.fit(X_train,y_train_cl)\n",
        "cl_preds=clf.predict(X_test)\n",
        "\n",
        "from sklearn.metrics import classification_report\n",
        "print(classification_report(y_test_cl, cl_preds))"
      ],
      "execution_count": 30,
      "outputs": [
        {
          "output_type": "stream",
          "text": [
            "              precision    recall  f1-score   support\n",
            "\n",
            "           0       0.90      0.93      0.91      7858\n",
            "           1       0.88      0.83      0.85      4830\n",
            "\n",
            "    accuracy                           0.89     12688\n",
            "   macro avg       0.89      0.88      0.88     12688\n",
            "weighted avg       0.89      0.89      0.89     12688\n",
            "\n"
          ],
          "name": "stdout"
        }
      ]
    },
    {
      "cell_type": "code",
      "metadata": {
        "id": "fVMxmPHvzU21",
        "colab": {
          "base_uri": "https://localhost:8080/"
        },
        "outputId": "bed638ff-2fe0-4130-8565-c65b947d0fea"
      },
      "source": [
        "# TRAINING REGRESSOR\n",
        "\n",
        "# REMOVING ROWS WITH ZERO DISCOUNT VALUE\n",
        "dx = filer_non_zero(df, 'off')\n",
        "X_train_mod, X_test_mod, y_train_mod, y_test_mod = df_train_test_split(dx,'on')\n",
        "\n",
        "# TRAINING MODEL WITH NON-ZERO VALUES\n",
        "# regressor =  XGBRegressor(n_estimators=3000, max_depth=4, eta=0.1, subsample=0.7, colsample_bytree=0.8)\n",
        "# regressor.fit(X_train_mod,y_train_mod)\n",
        "preds=regressor.predict(X_test_mod)\n",
        "\n",
        "print(\"Evaluation for non-zero only rows\")\n",
        "reg_eval_metrics(y_test_mod, preds)\n",
        "print(\"\")\n",
        "print(\"\")\n",
        "\n",
        "# PREDICTING ON ENTIRE DATASET\n",
        "preds=regressor.predict(X_test)\n",
        "preds=preds*cl_preds                                              # FILTERING DATA-POINTS WHICH WERE PREDICTED ZERO BY CLASSIFICATION PIPELINE\n",
        "\n",
        "print(\"Evaluation for entire datatset\")\n",
        "reg_eval_metrics(y_test, preds)"
      ],
      "execution_count": 31,
      "outputs": [
        {
          "output_type": "stream",
          "text": [
            "Evaluation for non-zero only rows\n",
            "MAPE Score:   80.63730982175603\n",
            "RMSE Score:   471.76716464307714\n",
            "MAE Score:    140.7365243272059\n",
            "\n",
            "\n",
            "Evaluation for entire datatset\n",
            "MAPE Score:   143.14246926823483\n",
            "RMSE Score:   567.9874741180997\n",
            "MAE Score:    114.55521906329021\n"
          ],
          "name": "stdout"
        }
      ]
    },
    {
      "cell_type": "code",
      "metadata": {
        "colab": {
          "base_uri": "https://localhost:8080/"
        },
        "id": "rXPlPShZfbM8",
        "outputId": "a7267de3-bfe1-414f-ee04-2f4d59eaf780"
      },
      "source": [
        "# TRAINING AND TESTING RANDOM FOREST REGRESSOR\n",
        "# rfr = RandomForestRegressor( random_state=0)\n",
        "# rfr.fit(X_train_mod,y_train_mod)\n",
        "preds=rfr.predict(X_test_mod)\n",
        "\n",
        "print(\"Evaluation for non-zero only rows\")\n",
        "reg_eval_metrics(y_test_mod, preds)\n",
        "print(\"\")\n",
        "print(\"\")\n",
        "\n",
        "preds=rfr.predict(X_test)\n",
        "preds=preds*cl_preds\n",
        "\n",
        "print(\"Evaluation for entire datatset\")\n",
        "reg_eval_metrics(y_test, preds)"
      ],
      "execution_count": 32,
      "outputs": [
        {
          "output_type": "stream",
          "text": [
            "Evaluation for non-zero only rows\n",
            "MAPE Score:   74.3435867742914\n",
            "RMSE Score:   477.1163293149308\n",
            "MAE Score:    158.2651420519059\n",
            "\n",
            "\n",
            "Evaluation for entire datatset\n",
            "MAPE Score:   126.89415571645165\n",
            "RMSE Score:   521.6194346625904\n",
            "MAE Score:    103.82410548549811\n"
          ],
          "name": "stdout"
        }
      ]
    },
    {
      "cell_type": "markdown",
      "metadata": {
        "id": "l-RQbPJsZB_M"
      },
      "source": [
        "##Extra Experiments"
      ]
    },
    {
      "cell_type": "markdown",
      "metadata": {
        "id": "HuwKiJIMaIYS"
      },
      "source": [
        "Ensemble using Genetic Algorithm on SVR, XGBoost, Random Forest Regressors. This is a random-based evolutionary algorithm which weights models resulting in the theoretical best possible evaluation score"
      ]
    },
    {
      "cell_type": "code",
      "metadata": {
        "id": "zf555xh_ZRnD"
      },
      "source": [
        "# TRAINING SVR MODEL\n",
        "from sklearn.svm import SVR\n",
        "svr = SVR(epsilon=0.2)\n",
        "svr.fit(X_train_mod,y_train_mod)\n",
        "preds=svr.predict(X_test_mod)\n",
        "\n",
        "models = [regressor, svr, rfr]\n",
        "test_pred_list = []                         # LIST CONTAINING TEST PREDICTIONS FOR ALL REGRESSORS\n",
        "for i in models:\n",
        "  preds = i.predict(X_test)\n",
        "  test_pred_list.append(preds)\n",
        "\n",
        "train_pred_list = []                        # LIST CONTAINING TRAIN PREDICTIONS FOR ALL REGRESSORS\n",
        "for i in models:\n",
        "  preds = i.predict(X_train)\n",
        "  train_pred_list.append(preds)\n",
        "all_test_preds = np.array(test_pred_list)\n",
        "all_train_preds = np.array(train_pred_list)"
      ],
      "execution_count": 33,
      "outputs": []
    },
    {
      "cell_type": "code",
      "metadata": {
        "colab": {
          "base_uri": "https://localhost:8080/",
          "height": 598
        },
        "id": "8RblFkY7JW5L",
        "outputId": "95fac97a-43b9-453f-9933-9dbeb6b17f7a"
      },
      "source": [
        "!pip install geneticalgorithm\n",
        "from geneticalgorithm import geneticalgorithm as ga\n",
        "\n",
        "# FUNCTION TO TRAIN WEIGHTS\n",
        "def f(X):\n",
        "    softmax_w = np.exp(X)/np.sum(np.exp(X))\n",
        "    weighted_all_test_preds = np.array([sw*dpreds for sw, dpreds in zip(softmax_w, all_test_preds)])\n",
        "    # print(weighted_all_test_preds.shape)\n",
        "    # weighted_dev_preds = np.sum(weighted_all_test_preds, axis = 0)\n",
        "    # final_dev_preds = np.mean(weighted_all_test_preds, axis = 0)\n",
        "    score1 = mean_squared_error(y_test, weighted_all_test_preds[0], squared=False)\n",
        "    score2 = mean_squared_error(y_test, weighted_all_test_preds[1], squared=False)\n",
        "    score3 = mean_squared_error(y_test, weighted_all_test_preds[2], squared=False)\n",
        "    return min(score1, score2,score3)\n",
        "\n",
        "# TRAIN GA ENSEMBLE MODEL\n",
        "varbound=np.array([[0, 1]]*all_test_preds.shape[0])\n",
        "model=ga(function=f,dimension=all_test_preds.shape[0],variable_type='real',variable_boundaries=varbound)\n",
        "model.run()\n",
        "\n",
        "convergence=model.report\n",
        "solution=model.output_dict\n",
        "solution\n",
        "X = solution['variable']\n",
        "# MULTIPLYING MODEL PREDICTIONS WITH WEIGHTS  \n",
        "softmax_w = np.exp(X)/np.sum(np.exp(X))\n",
        "weighted_all_test_preds = np.array([sw*dpreds for sw, dpreds in zip(softmax_w, all_test_preds)])\n",
        "final_dev_preds = np.mean(weighted_all_test_preds, axis = 0)\n",
        "score = mean_squared_error(y_test, final_dev_preds, squared=False)"
      ],
      "execution_count": 34,
      "outputs": [
        {
          "output_type": "stream",
          "text": [
            "Collecting geneticalgorithm\n",
            "  Downloading https://files.pythonhosted.org/packages/ac/d2/fb9061239eaeee5c0373844f27f43514f33201bc08aea54d65b437402966/geneticalgorithm-1.0.2-py3-none-any.whl\n",
            "Requirement already satisfied: numpy in /usr/local/lib/python3.7/dist-packages (from geneticalgorithm) (1.19.5)\n",
            "Collecting func-timeout\n",
            "\u001b[?25l  Downloading https://files.pythonhosted.org/packages/b3/0d/bf0567477f7281d9a3926c582bfef21bff7498fc0ffd3e9de21811896a0b/func_timeout-4.3.5.tar.gz (44kB)\n",
            "\r\u001b[K     |███████▍                        | 10kB 19.6MB/s eta 0:00:01\r\u001b[K     |██████████████▉                 | 20kB 24.8MB/s eta 0:00:01\r\u001b[K     |██████████████████████▏         | 30kB 28.5MB/s eta 0:00:01\r\u001b[K     |█████████████████████████████▋  | 40kB 31.1MB/s eta 0:00:01\r\u001b[K     |████████████████████████████████| 51kB 6.5MB/s \n",
            "\u001b[?25hBuilding wheels for collected packages: func-timeout\n",
            "  Building wheel for func-timeout (setup.py) ... \u001b[?25l\u001b[?25hdone\n",
            "  Created wheel for func-timeout: filename=func_timeout-4.3.5-cp37-none-any.whl size=15079 sha256=0929f67275ffa2e3596c2a013b7fcc7939da8c1a59defa0c7624caaba76b08ba\n",
            "  Stored in directory: /root/.cache/pip/wheels/46/7c/4f/24f1d2d5bbff92219debe7ea19af84f76ddeb90dd4ec544f26\n",
            "Successfully built func-timeout\n",
            "Installing collected packages: func-timeout, geneticalgorithm\n",
            "Successfully installed func-timeout-4.3.5 geneticalgorithm-1.0.2\n",
            " The best solution found:\n",
            " [0.14712897 0.49047814 0.93916951]\n",
            "\n",
            " Objective function:\n",
            " 564.9031182113816\n"
          ],
          "name": "stdout"
        },
        {
          "output_type": "display_data",
          "data": {
            "image/png": "[encoded data removed]",
            "text/plain": [
              "<Figure size 432x288 with 1 Axes>"
            ]
          },
          "metadata": {
            "tags": [],
            "needs_background": "light"
          }
        }
      ]
    },
    {
      "cell_type": "markdown",
      "metadata": {
        "id": "5RQX2Z8RqBA2"
      },
      "source": [
        "###Prospect for Future Feature Additions:\n",
        "\n",
        "####Country Tax Rates:\n",
        "\n",
        "Based on the province of the POC and COVID-19 regulations, we can adjust our discount rates so as to meet up the loss in sales and customers caused due to hindrances in transportation and the increased tax rates."
      ]
    }
  ]
}